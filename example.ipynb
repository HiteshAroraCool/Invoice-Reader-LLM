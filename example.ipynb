{
 "cells": [
  {
   "cell_type": "code",
   "execution_count": 1,
   "metadata": {},
   "outputs": [
    {
     "name": "stdout",
     "output_type": "stream",
     "text": []
    }
   ],
   "source": [
    "from app import result\n",
    "\n",
    "print(result)"
   ]
  },
  {
   "cell_type": "code",
   "execution_count": 6,
   "metadata": {},
   "outputs": [
    {
     "ename": "ImportError",
     "evalue": "cannot import name 'JsonOutputParser' from 'langchain.output_parsers' (f:\\work\\Miscellaneous\\Chatbot\\venv\\Lib\\site-packages\\langchain\\output_parsers\\__init__.py)",
     "output_type": "error",
     "traceback": [
      "\u001b[31m---------------------------------------------------------------------------\u001b[39m",
      "\u001b[31mImportError\u001b[39m                               Traceback (most recent call last)",
      "\u001b[36mCell\u001b[39m\u001b[36m \u001b[39m\u001b[32mIn[6]\u001b[39m\u001b[32m, line 4\u001b[39m\n\u001b[32m      2\u001b[39m \u001b[38;5;28;01mfrom\u001b[39;00m\u001b[38;5;250m \u001b[39m\u001b[34;01mlangchain\u001b[39;00m\u001b[34;01m.\u001b[39;00m\u001b[34;01mchat_models\u001b[39;00m\u001b[38;5;250m \u001b[39m\u001b[38;5;28;01mimport\u001b[39;00m init_chat_model\n\u001b[32m      3\u001b[39m \u001b[38;5;28;01mfrom\u001b[39;00m\u001b[38;5;250m \u001b[39m\u001b[34;01mlangchain\u001b[39;00m\u001b[34;01m.\u001b[39;00m\u001b[34;01mchains\u001b[39;00m\u001b[38;5;250m \u001b[39m\u001b[38;5;28;01mimport\u001b[39;00m LLMChain\n\u001b[32m----> \u001b[39m\u001b[32m4\u001b[39m \u001b[38;5;28;01mfrom\u001b[39;00m\u001b[38;5;250m \u001b[39m\u001b[34;01mlangchain\u001b[39;00m\u001b[34;01m.\u001b[39;00m\u001b[34;01moutput_parsers\u001b[39;00m\u001b[38;5;250m \u001b[39m\u001b[38;5;28;01mimport\u001b[39;00m JsonOutputParser\n\u001b[32m      5\u001b[39m \u001b[38;5;28;01mimport\u001b[39;00m\u001b[38;5;250m \u001b[39m\u001b[34;01mcsv\u001b[39;00m\n\u001b[32m      7\u001b[39m \u001b[38;5;66;03m# Define the prompt template\u001b[39;00m\n",
      "\u001b[31mImportError\u001b[39m: cannot import name 'JsonOutputParser' from 'langchain.output_parsers' (f:\\work\\Miscellaneous\\Chatbot\\venv\\Lib\\site-packages\\langchain\\output_parsers\\__init__.py)"
     ]
    }
   ],
   "source": [
    "from langchain.prompts import PromptTemplate\n",
    "from langchain.chat_models import init_chat_model\n",
    "from langchain.chains import LLMChain\n",
    "from langchain.output_parsers import JsonOutputParser\n",
    "import csv\n",
    "\n",
    "# Define the prompt template\n",
    "template = \"\"\"\n",
    "Extract the useful information from the following invoice text and produce a JSON format:\n",
    "{invoice_text}\n",
    "\n",
    "The JSON should contain the following keys:\n",
    "- order_id\n",
    "- date_time\n",
    "- customer\n",
    "- address\n",
    "- restaurant\n",
    "- delivery_partner\n",
    "- order_details (list of items with name, quantity, and price)\n",
    "- taxes\n",
    "- delivery_charge\n",
    "- platform_fee\n",
    "- coupon_applied\n",
    "- total\n",
    "\n",
    "Invoice Text:\n",
    "{invoice_text}\n",
    "\"\"\"\n",
    "\n",
    "prompt = PromptTemplate(input_variables=[\"invoice_text\"], template=template)\n",
    "\n",
    "# Initialize the LLM\n",
    "llm = init_chat_model(\"mistral-large-latest\", model_provider=\"mistralai\")\n",
    "\n",
    "# Create the chain\n",
    "chain = LLMChain(prompt=prompt, llm=llm)\n",
    "\n",
    "# Use JsonOutputParser\n",
    "output_parser = JsonOutputParser()\n",
    "\n",
    "# Get the chain\n",
    "chain = prompt | llm | output_parser\n",
    "\n",
    "# Run the chain\n",
    "invoice_dict = chain.invoke({\"invoice_text\": result})\n",
    "print(invoice_dict)\n",
    "\n",
    "# Store the dictionary in a CSV file\n",
    "csv_file = \"invoice_data.csv\"\n",
    "\n",
    "try:\n",
    "    with open(csv_file, 'w', newline='', encoding='utf-8') as csvfile:\n",
    "        writer = csv.writer(csvfile)\n",
    "\n",
    "        # Write the header\n",
    "        header = list(invoice_dict.keys())\n",
    "        writer.writerow(header)\n",
    "\n",
    "        # Write the data\n",
    "        data = list(invoice_dict.values())\n",
    "        writer.writerow(data)\n",
    "\n",
    "    print(f\"Data written to {csv_file} successfully!\")\n",
    "except Exception as e:\n",
    "    print(f\"An error occurred: {e}\")"
   ]
  }
 ],
 "metadata": {
  "kernelspec": {
   "display_name": "Python 3",
   "language": "python",
   "name": "python3"
  },
  "language_info": {
   "codemirror_mode": {
    "name": "ipython",
    "version": 3
   },
   "file_extension": ".py",
   "mimetype": "text/x-python",
   "name": "python",
   "nbconvert_exporter": "python",
   "pygments_lexer": "ipython3",
   "version": "3.12.0"
  }
 },
 "nbformat": 4,
 "nbformat_minor": 2
}
